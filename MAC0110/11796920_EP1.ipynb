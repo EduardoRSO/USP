{
 "cells": [
  {
   "cell_type": "markdown",
   "metadata": {},
   "source": [
    "# EP1 - MAC0110 - Introdução à Computação"
   ]
  },
  {
   "cell_type": "markdown",
   "metadata": {},
   "source": [
    "NOME: Eduardo Ribeiro Silva de Oliveira\n",
    "\n",
    "NUSP: 11796920"
   ]
  },
  {
   "cell_type": "markdown",
   "metadata": {},
   "source": [
    "## Problema do Muro\n",
    "\n",
    "Nós temos dois tipos de tijolos, como mostrado na parte esquerda da figura abaixo. A ideia é construir uma mureta de altura 2 e comprimento `N`. A parte direita da figura ilustra uma forma de usar os dois tipos de tijolos para construir uma mureta de comprimento `N = 12`."
   ]
  },
  {
   "cell_type": "markdown",
   "metadata": {},
   "source": [
    "![Exemplo de muro para N = 12](1.png)"
   ]
  },
  {
   "cell_type": "markdown",
   "metadata": {},
   "source": [
    "Precisamos saber quantas formas distintas existem de construir a mureta com esses dois tipos de tijolos. Para isso, já temos duas observações: qualquer mureta de comprimento `N` vai terminar de uma das sete maneiras ilustradas abaixo e; o número de formas distintas de construir uma mureta de comprimento 2, 1 e 0 é, respectivamente, 5, 1 e 1 (Sim! Existe uma forma de construir a mureta de comprimento 0: usar nenhum tijolo)."
   ]
  },
  {
   "cell_type": "markdown",
   "metadata": {},
   "source": [
    "![Exemplo de muro para N = 12](2.png)"
   ]
  },
  {
   "cell_type": "markdown",
   "metadata": {},
   "source": [
    "Escreva uma função recursiva `muro(N)` que recebe o parâmetro `N` e devolve um inteiro que representa o número de formas distintas de construir uma mureta de comprimento `N`."
   ]
  },
  {
   "cell_type": "markdown",
   "metadata": {},
   "source": [
    "Segue, abaixo, uma tabela com exemplos de N e seus resultados esperados:"
   ]
  },
  {
   "cell_type": "markdown",
   "metadata": {},
   "source": [
    "| N | Resultado esperado |\n",
    "|--:|-------------------:|\n",
    "| 0 |                  1 |\n",
    "| 1 |                  1 |\n",
    "| 2 |                  5 |\n",
    "| 6 |                241 |\n",
    "|11 |              36543 |\n",
    "|30 |      7179637555201 |"
   ]
  },
  {
   "cell_type": "markdown",
   "metadata": {},
   "source": [
    "## Instruções Gerais do EP1"
   ]
  },
  {
   "cell_type": "markdown",
   "metadata": {},
   "source": [
    "1. Entregue apenas este notebook como resposta ao EP1. O nome do arquivo deve ser `<SEU NUSP>_EP1.ipynb` assim como nos outros exercícios;\n",
    "2. Você _DEVE_ usar recursão;\n",
    "3. Você está encarregado de testar sua resposta. Não há testes automatizados desta vez;\n",
    "4. Não é necessário testar para N grande! Na função puramente recursiva, para N = 40, leva quase 1 minuto para obter a resposta! Não testaremos para valores altos :)\n",
    "5. **BÔNUS:** Para melhorar a eficiência de sua resposta, você pode utilizar um vetor auxiliar que guarda os valores para os N já calculados (isto _NÃO É OBRIGATÓRIO_ )."
   ]
  },
  {
   "cell_type": "code",
   "execution_count": 116,
   "metadata": {},
   "outputs": [
    {
     "name": "stdout",
     "output_type": "stream",
     "text": [
      "Tudo Ok.\n"
     ]
    }
   ],
   "source": [
    "function testa()\n",
    "    if muro(0) != 1\n",
    "        println(\"Erro. n = 0.\")\n",
    "        elseif muro(2) != 5\n",
    "        println(\"Erro. n = 5.\")\n",
    "        elseif muro(6) != 241\n",
    "        println(\"Erro. n = 6.\")\n",
    "        elseif !ehprimo(muro(6))\n",
    "        println(\"Erro. n = 6. Não primo.\")\n",
    "        else\n",
    "        println(\"Tudo Ok.\")\n",
    "end\n",
    "end\n",
    "testa()"
   ]
  },
  {
   "cell_type": "code",
   "execution_count": 120,
   "metadata": {},
   "outputs": [
    {
     "data": {
      "text/plain": [
       "1"
      ]
     },
     "execution_count": 120,
     "metadata": {},
     "output_type": "execute_result"
    }
   ],
   "source": [
    "function muro(n)\n",
    "    return operador(2n)\n",
    "end\n",
    "\n",
    "function operador(n)\n",
    "    if n < 0 \n",
    "        return 0\n",
    "    elseif n == 0\n",
    "        return 1\n",
    "        else \n",
    "        return 1*operador(n-2) + 4*operador(n-4) + 2*operador(n-6)\n",
    "    end\n",
    "end\n",
    "muro()"
   ]
  },
  {
   "cell_type": "code",
   "execution_count": 114,
   "metadata": {},
   "outputs": [
    {
     "data": {
      "text/plain": [
       "true"
      ]
     },
     "execution_count": 114,
     "metadata": {},
     "output_type": "execute_result"
    }
   ],
   "source": [
    "function ehprimo(n)\n",
    "    if n <= 0\n",
    "        return false\n",
    "    elseif n == 1\n",
    "        return true\n",
    "    else\n",
    "    return ehprimo(2,n)\n",
    "end\n",
    "end\n",
    "\n",
    "function ehprimo(a,b)\n",
    "   if a < b\n",
    "        if b % a == 0\n",
    "            return false\n",
    "        else \n",
    "            return ehprimo(a+1,b) \n",
    "        end\n",
    "    else\n",
    "        return true\n",
    "    end\n",
    "end\n",
    "\n",
    "ehprimo(241)"
   ]
  }
 ],
 "metadata": {
  "kernelspec": {
   "display_name": "Julia 1.3.1",
   "language": "julia",
   "name": "julia-1.3"
  },
  "language_info": {
   "file_extension": ".jl",
   "mimetype": "application/julia",
   "name": "julia",
   "version": "1.3.1"
  }
 },
 "nbformat": 4,
 "nbformat_minor": 2
}
